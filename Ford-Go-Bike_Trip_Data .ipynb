{
 "cells": [
  {
   "cell_type": "markdown",
   "id": "bbc4434a",
   "metadata": {
    "slideshow": {
     "slide_type": "slide"
    }
   },
   "source": [
    "\n",
    "# Ford-Go-Bike Trip Data"
   ]
  },
  {
   "cell_type": "markdown",
   "id": "364bda3c",
   "metadata": {
    "slideshow": {
     "slide_type": "skip"
    },
    "tags": []
   },
   "source": [
    "# Data Set\n",
    "This data set includes information about individual rides made\n",
    "in a bike-sharing system covering the greater San Francisco\n",
    "Bay area.\n",
    "* Note that this dataset will require some data wrangling in\n",
    "order to make it tidy for analysis. There are multiple cities\n",
    "covered by the linked system, and multiple data files will need\n",
    "to be joined together if a full year’s coverage is desired.\n",
    "* If you’re feeling adventurous, try adding in analysis from\n",
    "other cities,\n",
    "* When are most trips taken in terms\n",
    "of time of day, day of the week, or\n",
    "month of the year?\n",
    "* How long does the average trip\n",
    "take?\n",
    "* Does the above depend on if a user\n",
    "* is a subscriber or customer?\n",
    "\n"
   ]
  },
  {
   "cell_type": "markdown",
   "id": "8e4d3d55",
   "metadata": {
    "slideshow": {
     "slide_type": "skip"
    },
    "tags": []
   },
   "source": [
    "# Summary of Findings\n",
    "\n",
    "* When we Comapred  Gender For All Trips and discover the big difference for Male especially thursday for (male & Female) Found Most Of Users are Male (70%) & Others (female and unknown are 30 %).\n",
    "* Customers users   usually took more time in their rides than Subscribers.\n",
    "\n",
    "* When We Related Comparing Ages For Riders To (Customers & Subscriber)  Found Age Riders Between Customer and Subscriber .. whatever the A big difference Subscriber But The Age is Most for twice is 29:39 and the Least age is 39:49 For Twice .\n",
    "* When Comparing   Between Customers With Subscriber and found big different  We Explore Subscriber is Most Users & The Most Day For ( Customers & Subscribers ) is Thursday .\n",
    "* Making heatmap explain that the Subscriber Who in 29 to 39 is most use bike system in Friday and the less days that use customers in it and point plot confirm the result For Age.\n"
   ]
  },
  {
   "cell_type": "markdown",
   "id": "e000676c",
   "metadata": {
    "slideshow": {
     "slide_type": "skip"
    },
    "tags": []
   },
   "source": [
    "# Key Insights for Presentation\n",
    "In this project,I Focus on  relation of member's age group and gender with their bike usage in terms of duration with variables of questions (user type, user age and gender, weekdays ).\n",
    "Afterwards I Introduced  of each of categorical variable on by one , translated it to plots to get calrity percentage and make category of ages of users whatever customers and subscribers (with  Them Gender) and compared the age for them with durations and the period "
   ]
  },
  {
   "cell_type": "markdown",
   "id": "6ebaf41d",
   "metadata": {
    "slideshow": {
     "slide_type": "skip"
    }
   },
   "source": [
    "# Preliminary Wrangling"
   ]
  },
  {
   "cell_type": "markdown",
   "id": "706b0387",
   "metadata": {
    "slideshow": {
     "slide_type": "subslide"
    }
   },
   "source": [
    "This document explores a dataset containing Ford-Bike Trips and Details OF This Trips for approximately 183,143 Trips."
   ]
  },
  {
   "cell_type": "code",
   "execution_count": 2,
   "id": "6be943a0",
   "metadata": {
    "slideshow": {
     "slide_type": "skip"
    },
    "tags": []
   },
   "outputs": [],
   "source": [
    "# import all packages and set plots to be embedded inline\n",
    "\n",
    "import numpy as np\n",
    "import pandas as pd\n",
    "import matplotlib.pyplot as plt\n",
    "%matplotlib inline\n",
    "import seaborn as sb\n",
    "\n",
    "import os\n",
    "import datetime"
   ]
  },
  {
   "cell_type": "code",
   "execution_count": 3,
   "id": "db7c7920",
   "metadata": {
    "slideshow": {
     "slide_type": "skip"
    }
   },
   "outputs": [],
   "source": [
    "# load in the dataset into a pandas dataframe, print statistics\n",
    "df = pd.read_csv('fordgobike-tripdata.csv')"
   ]
  },
  {
   "cell_type": "code",
   "execution_count": 3,
   "id": "25e59c04",
   "metadata": {
    "slideshow": {
     "slide_type": "skip"
    }
   },
   "outputs": [
    {
     "data": {
      "text/plain": [
       "(183412, 16)"
      ]
     },
     "execution_count": 3,
     "metadata": {},
     "output_type": "execute_result"
    }
   ],
   "source": [
    "df.shape"
   ]
  },
  {
   "cell_type": "code",
   "execution_count": 4,
   "id": "6584e30b",
   "metadata": {
    "slideshow": {
     "slide_type": "skip"
    }
   },
   "outputs": [
    {
     "data": {
      "text/html": [
       "<div>\n",
       "<style scoped>\n",
       "    .dataframe tbody tr th:only-of-type {\n",
       "        vertical-align: middle;\n",
       "    }\n",
       "\n",
       "    .dataframe tbody tr th {\n",
       "        vertical-align: top;\n",
       "    }\n",
       "\n",
       "    .dataframe thead th {\n",
       "        text-align: right;\n",
       "    }\n",
       "</style>\n",
       "<table border=\"1\" class=\"dataframe\">\n",
       "  <thead>\n",
       "    <tr style=\"text-align: right;\">\n",
       "      <th></th>\n",
       "      <th>duration_sec</th>\n",
       "      <th>start_time</th>\n",
       "      <th>end_time</th>\n",
       "      <th>start_station_id</th>\n",
       "      <th>start_station_name</th>\n",
       "      <th>start_station_latitude</th>\n",
       "      <th>start_station_longitude</th>\n",
       "      <th>end_station_id</th>\n",
       "      <th>end_station_name</th>\n",
       "      <th>end_station_latitude</th>\n",
       "      <th>end_station_longitude</th>\n",
       "      <th>bike_id</th>\n",
       "      <th>user_type</th>\n",
       "      <th>member_birth_year</th>\n",
       "      <th>member_gender</th>\n",
       "      <th>bike_share_for_all_trip</th>\n",
       "    </tr>\n",
       "  </thead>\n",
       "  <tbody>\n",
       "    <tr>\n",
       "      <th>0</th>\n",
       "      <td>52185</td>\n",
       "      <td>2019-02-28 17:32:10.1450</td>\n",
       "      <td>2019-03-01 08:01:55.9750</td>\n",
       "      <td>21.0</td>\n",
       "      <td>Montgomery St BART Station (Market St at 2nd St)</td>\n",
       "      <td>37.789625</td>\n",
       "      <td>-122.400811</td>\n",
       "      <td>13.0</td>\n",
       "      <td>Commercial St at Montgomery St</td>\n",
       "      <td>37.794231</td>\n",
       "      <td>-122.402923</td>\n",
       "      <td>4902</td>\n",
       "      <td>Customer</td>\n",
       "      <td>1984.0</td>\n",
       "      <td>Male</td>\n",
       "      <td>No</td>\n",
       "    </tr>\n",
       "    <tr>\n",
       "      <th>1</th>\n",
       "      <td>42521</td>\n",
       "      <td>2019-02-28 18:53:21.7890</td>\n",
       "      <td>2019-03-01 06:42:03.0560</td>\n",
       "      <td>23.0</td>\n",
       "      <td>The Embarcadero at Steuart St</td>\n",
       "      <td>37.791464</td>\n",
       "      <td>-122.391034</td>\n",
       "      <td>81.0</td>\n",
       "      <td>Berry St at 4th St</td>\n",
       "      <td>37.775880</td>\n",
       "      <td>-122.393170</td>\n",
       "      <td>2535</td>\n",
       "      <td>Customer</td>\n",
       "      <td>NaN</td>\n",
       "      <td>NaN</td>\n",
       "      <td>No</td>\n",
       "    </tr>\n",
       "    <tr>\n",
       "      <th>2</th>\n",
       "      <td>61854</td>\n",
       "      <td>2019-02-28 12:13:13.2180</td>\n",
       "      <td>2019-03-01 05:24:08.1460</td>\n",
       "      <td>86.0</td>\n",
       "      <td>Market St at Dolores St</td>\n",
       "      <td>37.769305</td>\n",
       "      <td>-122.426826</td>\n",
       "      <td>3.0</td>\n",
       "      <td>Powell St BART Station (Market St at 4th St)</td>\n",
       "      <td>37.786375</td>\n",
       "      <td>-122.404904</td>\n",
       "      <td>5905</td>\n",
       "      <td>Customer</td>\n",
       "      <td>1972.0</td>\n",
       "      <td>Male</td>\n",
       "      <td>No</td>\n",
       "    </tr>\n",
       "    <tr>\n",
       "      <th>3</th>\n",
       "      <td>36490</td>\n",
       "      <td>2019-02-28 17:54:26.0100</td>\n",
       "      <td>2019-03-01 04:02:36.8420</td>\n",
       "      <td>375.0</td>\n",
       "      <td>Grove St at Masonic Ave</td>\n",
       "      <td>37.774836</td>\n",
       "      <td>-122.446546</td>\n",
       "      <td>70.0</td>\n",
       "      <td>Central Ave at Fell St</td>\n",
       "      <td>37.773311</td>\n",
       "      <td>-122.444293</td>\n",
       "      <td>6638</td>\n",
       "      <td>Subscriber</td>\n",
       "      <td>1989.0</td>\n",
       "      <td>Other</td>\n",
       "      <td>No</td>\n",
       "    </tr>\n",
       "    <tr>\n",
       "      <th>4</th>\n",
       "      <td>1585</td>\n",
       "      <td>2019-02-28 23:54:18.5490</td>\n",
       "      <td>2019-03-01 00:20:44.0740</td>\n",
       "      <td>7.0</td>\n",
       "      <td>Frank H Ogawa Plaza</td>\n",
       "      <td>37.804562</td>\n",
       "      <td>-122.271738</td>\n",
       "      <td>222.0</td>\n",
       "      <td>10th Ave at E 15th St</td>\n",
       "      <td>37.792714</td>\n",
       "      <td>-122.248780</td>\n",
       "      <td>4898</td>\n",
       "      <td>Subscriber</td>\n",
       "      <td>1974.0</td>\n",
       "      <td>Male</td>\n",
       "      <td>Yes</td>\n",
       "    </tr>\n",
       "  </tbody>\n",
       "</table>\n",
       "</div>"
      ],
      "text/plain": [
       "   duration_sec                start_time                  end_time  \\\n",
       "0         52185  2019-02-28 17:32:10.1450  2019-03-01 08:01:55.9750   \n",
       "1         42521  2019-02-28 18:53:21.7890  2019-03-01 06:42:03.0560   \n",
       "2         61854  2019-02-28 12:13:13.2180  2019-03-01 05:24:08.1460   \n",
       "3         36490  2019-02-28 17:54:26.0100  2019-03-01 04:02:36.8420   \n",
       "4          1585  2019-02-28 23:54:18.5490  2019-03-01 00:20:44.0740   \n",
       "\n",
       "   start_station_id                                start_station_name  \\\n",
       "0              21.0  Montgomery St BART Station (Market St at 2nd St)   \n",
       "1              23.0                     The Embarcadero at Steuart St   \n",
       "2              86.0                           Market St at Dolores St   \n",
       "3             375.0                           Grove St at Masonic Ave   \n",
       "4               7.0                               Frank H Ogawa Plaza   \n",
       "\n",
       "   start_station_latitude  start_station_longitude  end_station_id  \\\n",
       "0               37.789625              -122.400811            13.0   \n",
       "1               37.791464              -122.391034            81.0   \n",
       "2               37.769305              -122.426826             3.0   \n",
       "3               37.774836              -122.446546            70.0   \n",
       "4               37.804562              -122.271738           222.0   \n",
       "\n",
       "                               end_station_name  end_station_latitude  \\\n",
       "0                Commercial St at Montgomery St             37.794231   \n",
       "1                            Berry St at 4th St             37.775880   \n",
       "2  Powell St BART Station (Market St at 4th St)             37.786375   \n",
       "3                        Central Ave at Fell St             37.773311   \n",
       "4                         10th Ave at E 15th St             37.792714   \n",
       "\n",
       "   end_station_longitude  bike_id   user_type  member_birth_year  \\\n",
       "0            -122.402923     4902    Customer             1984.0   \n",
       "1            -122.393170     2535    Customer                NaN   \n",
       "2            -122.404904     5905    Customer             1972.0   \n",
       "3            -122.444293     6638  Subscriber             1989.0   \n",
       "4            -122.248780     4898  Subscriber             1974.0   \n",
       "\n",
       "  member_gender bike_share_for_all_trip  \n",
       "0          Male                      No  \n",
       "1           NaN                      No  \n",
       "2          Male                      No  \n",
       "3         Other                      No  \n",
       "4          Male                     Yes  "
      ]
     },
     "execution_count": 4,
     "metadata": {},
     "output_type": "execute_result"
    }
   ],
   "source": [
    "df.head()"
   ]
  },
  {
   "cell_type": "code",
   "execution_count": 5,
   "id": "f5201ac9",
   "metadata": {
    "slideshow": {
     "slide_type": "skip"
    }
   },
   "outputs": [
    {
     "data": {
      "text/plain": [
       "duration_sec                 int64\n",
       "start_time                  object\n",
       "end_time                    object\n",
       "start_station_id           float64\n",
       "start_station_name          object\n",
       "start_station_latitude     float64\n",
       "start_station_longitude    float64\n",
       "end_station_id             float64\n",
       "end_station_name            object\n",
       "end_station_latitude       float64\n",
       "end_station_longitude      float64\n",
       "bike_id                      int64\n",
       "user_type                   object\n",
       "member_birth_year          float64\n",
       "member_gender               object\n",
       "bike_share_for_all_trip     object\n",
       "dtype: object"
      ]
     },
     "execution_count": 5,
     "metadata": {},
     "output_type": "execute_result"
    }
   ],
   "source": [
    "df.dtypes"
   ]
  },
  {
   "cell_type": "code",
   "execution_count": 6,
   "id": "ae5759e4",
   "metadata": {
    "slideshow": {
     "slide_type": "skip"
    }
   },
   "outputs": [],
   "source": [
    "#Convert The Start & End Time TO (date Time)Formate\n",
    "df['start_time'] = pd.to_datetime(df['start_time'], errors='coerce')\n",
    "df['end_time'] = pd.to_datetime(df['end_time'], errors='coerce')"
   ]
  },
  {
   "cell_type": "code",
   "execution_count": 7,
   "id": "1b9efba2",
   "metadata": {
    "slideshow": {
     "slide_type": "skip"
    }
   },
   "outputs": [
    {
     "data": {
      "text/plain": [
       "duration_sec                        int64\n",
       "start_time                 datetime64[ns]\n",
       "end_time                   datetime64[ns]\n",
       "start_station_id                  float64\n",
       "start_station_name                 object\n",
       "start_station_latitude            float64\n",
       "start_station_longitude           float64\n",
       "end_station_id                    float64\n",
       "end_station_name                   object\n",
       "end_station_latitude              float64\n",
       "end_station_longitude             float64\n",
       "bike_id                             int64\n",
       "user_type                          object\n",
       "member_birth_year                 float64\n",
       "member_gender                      object\n",
       "bike_share_for_all_trip            object\n",
       "dtype: object"
      ]
     },
     "execution_count": 7,
     "metadata": {},
     "output_type": "execute_result"
    }
   ],
   "source": [
    "df.dtypes"
   ]
  },
  {
   "cell_type": "code",
   "execution_count": 8,
   "id": "48caf1d8",
   "metadata": {
    "slideshow": {
     "slide_type": "skip"
    }
   },
   "outputs": [],
   "source": [
    "#Extract The Month And Day From Start Time Column.\n",
    "df['month'] = df['start_time'].dt.strftime('%b')\n",
    "df['weekday'] = df['start_time'].dt.strftime('%a')\n"
   ]
  },
  {
   "cell_type": "code",
   "execution_count": 9,
   "id": "e872a911",
   "metadata": {
    "slideshow": {
     "slide_type": "skip"
    }
   },
   "outputs": [],
   "source": [
    "#Extract Hour From Start Time Column.\n",
    "df['hour'] = df['start_time'].dt.hour"
   ]
  },
  {
   "cell_type": "code",
   "execution_count": 10,
   "id": "9c13c954",
   "metadata": {
    "slideshow": {
     "slide_type": "skip"
    }
   },
   "outputs": [],
   "source": [
    "# To Convert age column at next to integer \n",
    "df = df.fillna(0)"
   ]
  },
  {
   "cell_type": "code",
   "execution_count": 11,
   "id": "dc0104bc",
   "metadata": {
    "slideshow": {
     "slide_type": "skip"
    }
   },
   "outputs": [
    {
     "data": {
      "text/plain": [
       "0           37\n",
       "1         2021\n",
       "2           49\n",
       "3           32\n",
       "4           47\n",
       "          ... \n",
       "183407      25\n",
       "183408      37\n",
       "183409      31\n",
       "183410      33\n",
       "183411      32\n",
       "Name: age, Length: 183412, dtype: int32"
      ]
     },
     "execution_count": 11,
     "metadata": {},
     "output_type": "execute_result"
    }
   ],
   "source": [
    "#Make Column With Age Of  Users By Them Birthdate Then Convert from float to int\n",
    "This_year =2021\n",
    "df['age'] = This_year - df['member_birth_year']\n",
    "df['age'].astype(int)"
   ]
  },
  {
   "cell_type": "code",
   "execution_count": 12,
   "id": "64a7c122",
   "metadata": {
    "slideshow": {
     "slide_type": "skip"
    }
   },
   "outputs": [],
   "source": [
    "df['member_gender'].fillna('Other',inplace=True)\n"
   ]
  },
  {
   "cell_type": "code",
   "execution_count": 13,
   "id": "b67924db",
   "metadata": {
    "slideshow": {
     "slide_type": "skip"
    }
   },
   "outputs": [],
   "source": [
    "df['member_gender'].replace({'0':'Other'},inplace=True)"
   ]
  },
  {
   "cell_type": "code",
   "execution_count": 14,
   "id": "91d2d779",
   "metadata": {
    "slideshow": {
     "slide_type": "skip"
    }
   },
   "outputs": [],
   "source": [
    "\n",
    "df['duration'] = pd.to_datetime(df[\"duration_sec\"], unit='s').dt.strftime(\"%H:%M:%S\")"
   ]
  },
  {
   "cell_type": "code",
   "execution_count": 15,
   "id": "15fff205",
   "metadata": {
    "slideshow": {
     "slide_type": "skip"
    }
   },
   "outputs": [],
   "source": [
    "#To Make Easy Chart and comparing With Ages of Users ..We Devide The Age Column into categoty 10 Years .\n",
    "df['age_category'] = pd.cut(x=df['age'], bins=[20, 29, 39, 49])"
   ]
  },
  {
   "cell_type": "code",
   "execution_count": 16,
   "id": "6fe112a9",
   "metadata": {
    "slideshow": {
     "slide_type": "skip"
    }
   },
   "outputs": [],
   "source": [
    "#Found  When i make chart for duration its complex So i convert all column to minutes ..\n",
    "df['duration_by_min'] = df['duration_sec']/60\n",
    "df['duration_by_min'] = df['duration_by_min'].astype(int)"
   ]
  },
  {
   "cell_type": "code",
   "execution_count": 17,
   "id": "dd49ceea",
   "metadata": {
    "slideshow": {
     "slide_type": "skip"
    }
   },
   "outputs": [
    {
     "data": {
      "text/plain": [
       "0          Male\n",
       "1             0\n",
       "2          Male\n",
       "3         Other\n",
       "4          Male\n",
       "          ...  \n",
       "183407     Male\n",
       "183408     Male\n",
       "183409     Male\n",
       "183410     Male\n",
       "183411     Male\n",
       "Name: member_gender, Length: 183412, dtype: category\n",
       "Categories (4, object): [0, 'Female', 'Male', 'Other']"
      ]
     },
     "execution_count": 17,
     "metadata": {},
     "output_type": "execute_result"
    }
   ],
   "source": [
    "df.member_gender.astype('category')"
   ]
  },
  {
   "cell_type": "code",
   "execution_count": 18,
   "id": "139f94a7",
   "metadata": {
    "slideshow": {
     "slide_type": "skip"
    }
   },
   "outputs": [
    {
     "data": {
      "text/plain": [
       "duration_sec                        int64\n",
       "start_time                 datetime64[ns]\n",
       "end_time                   datetime64[ns]\n",
       "start_station_id                  float64\n",
       "start_station_name                 object\n",
       "start_station_latitude            float64\n",
       "start_station_longitude           float64\n",
       "end_station_id                    float64\n",
       "end_station_name                   object\n",
       "end_station_latitude              float64\n",
       "end_station_longitude             float64\n",
       "bike_id                             int64\n",
       "user_type                          object\n",
       "member_birth_year                 float64\n",
       "member_gender                      object\n",
       "bike_share_for_all_trip            object\n",
       "month                              object\n",
       "weekday                            object\n",
       "hour                                int64\n",
       "age                               float64\n",
       "duration                           object\n",
       "age_category                     category\n",
       "duration_by_min                     int32\n",
       "dtype: object"
      ]
     },
     "execution_count": 18,
     "metadata": {},
     "output_type": "execute_result"
    }
   ],
   "source": [
    "df.dtypes"
   ]
  },
  {
   "cell_type": "code",
   "execution_count": 19,
   "id": "8622dfb2",
   "metadata": {
    "slideshow": {
     "slide_type": "skip"
    }
   },
   "outputs": [
    {
     "data": {
      "text/plain": [
       "duration_sec                   0\n",
       "start_time                     0\n",
       "end_time                       0\n",
       "start_station_id               0\n",
       "start_station_name             0\n",
       "start_station_latitude         0\n",
       "start_station_longitude        0\n",
       "end_station_id                 0\n",
       "end_station_name               0\n",
       "end_station_latitude           0\n",
       "end_station_longitude          0\n",
       "bike_id                        0\n",
       "user_type                      0\n",
       "member_birth_year              0\n",
       "member_gender                  0\n",
       "bike_share_for_all_trip        0\n",
       "month                          0\n",
       "weekday                        0\n",
       "hour                           0\n",
       "age                            0\n",
       "duration                       0\n",
       "age_category               28083\n",
       "duration_by_min                0\n",
       "dtype: int64"
      ]
     },
     "execution_count": 19,
     "metadata": {},
     "output_type": "execute_result"
    }
   ],
   "source": [
    "df.isnull().sum()"
   ]
  },
  {
   "cell_type": "code",
   "execution_count": 20,
   "id": "a4c103a5",
   "metadata": {
    "slideshow": {
     "slide_type": "skip"
    }
   },
   "outputs": [
    {
     "data": {
      "text/plain": [
       "duration_sec                   0\n",
       "start_time                     0\n",
       "end_time                       0\n",
       "start_station_id               0\n",
       "start_station_name             0\n",
       "start_station_latitude         0\n",
       "start_station_longitude        0\n",
       "end_station_id                 0\n",
       "end_station_name               0\n",
       "end_station_latitude           0\n",
       "end_station_longitude          0\n",
       "bike_id                        0\n",
       "user_type                      0\n",
       "member_birth_year              0\n",
       "member_gender                  0\n",
       "bike_share_for_all_trip        0\n",
       "month                          0\n",
       "weekday                        0\n",
       "hour                           0\n",
       "age                            0\n",
       "duration                       0\n",
       "age_category               28083\n",
       "duration_by_min                0\n",
       "dtype: int64"
      ]
     },
     "execution_count": 20,
     "metadata": {},
     "output_type": "execute_result"
    }
   ],
   "source": [
    "#Drop all null from birthday\n",
    "df.dropna(subset=['member_birth_year'],inplace=True)\n",
    "df.isnull().sum()"
   ]
  },
  {
   "cell_type": "code",
   "execution_count": 21,
   "id": "d66903d1",
   "metadata": {
    "slideshow": {
     "slide_type": "skip"
    }
   },
   "outputs": [],
   "source": [
    "#Fill all Nan with other  in gender column\n",
    "df['member_gender'].fillna('Other',inplace=True)"
   ]
  },
  {
   "cell_type": "code",
   "execution_count": 22,
   "id": "cd622e70",
   "metadata": {
    "slideshow": {
     "slide_type": "skip"
    }
   },
   "outputs": [
    {
     "data": {
      "text/plain": [
       "count    183412.000000\n",
       "mean        125.633868\n",
       "std         411.850439\n",
       "min          20.000000\n",
       "25%          29.000000\n",
       "50%          34.000000\n",
       "75%          42.000000\n",
       "max        2021.000000\n",
       "Name: age, dtype: float64"
      ]
     },
     "execution_count": 22,
     "metadata": {},
     "output_type": "execute_result"
    }
   ],
   "source": [
    "df['age'].describe()"
   ]
  },
  {
   "cell_type": "markdown",
   "id": "46f61696",
   "metadata": {
    "slideshow": {
     "slide_type": "slide"
    }
   },
   "source": [
    "What is/are the main feature(s) of interest in your dataset?"
   ]
  },
  {
   "cell_type": "markdown",
   "id": "242dacf4",
   "metadata": {
    "slideshow": {
     "slide_type": "subslide"
    }
   },
   "source": [
    "I'm most interested in figuring out what features are best for comparing With ages and Weekday for all trips.\n"
   ]
  },
  {
   "cell_type": "markdown",
   "id": "a96925cf",
   "metadata": {
    "slideshow": {
     "slide_type": "slide"
    }
   },
   "source": [
    "What features in the dataset do you think will help support your investigation into your feature(s) of interest?"
   ]
  },
  {
   "cell_type": "markdown",
   "id": "faa78b1d",
   "metadata": {
    "slideshow": {
     "slide_type": "subslide"
    }
   },
   "source": [
    "I expect that Age  will have the strongest effect on each Trip ..the most days and duration Comparing With Age ."
   ]
  },
  {
   "cell_type": "markdown",
   "id": "b3d8ed49",
   "metadata": {
    "slideshow": {
     "slide_type": "skip"
    }
   },
   "source": [
    "# Univariate Exploration"
   ]
  },
  {
   "cell_type": "markdown",
   "id": "885827e8",
   "metadata": {
    "slideshow": {
     "slide_type": "skip"
    }
   },
   "source": [
    "Comparing With Days For Numbers Of Trips"
   ]
  },
  {
   "cell_type": "code",
   "execution_count": 23,
   "id": "2d3ef596",
   "metadata": {
    "slideshow": {
     "slide_type": "skip"
    },
    "tags": [
     "to_remove"
    ]
   },
   "outputs": [
    {
     "data": {
      "image/png": "[encoded data removed]",
      "text/plain": [
       "<Figure size 720x360 with 1 Axes>"
      ]
     },
     "metadata": {
      "needs_background": "light"
     },
     "output_type": "display_data"
    }
   ],
   "source": [
    "plt.figure(figsize=[10,5])\n",
    "plt.title(\"Ford GoBike  Trip Most Days\")\n",
    "plt.xlabel('Days')\n",
    "plt.ylabel('Number Of Trips');\n",
    "plt.hist(data=df , x= 'weekday' , bins=50)\n",
    "plt.show()\n"
   ]
  },
  {
   "cell_type": "markdown",
   "id": "e7d1428a",
   "metadata": {
    "slideshow": {
     "slide_type": "slide"
    }
   },
   "source": [
    "After We Found Most Day of Week For Trips ..We  Found The Most Hour is between 10:20"
   ]
  },
  {
   "cell_type": "code",
   "execution_count": 24,
   "id": "525ebcd8",
   "metadata": {
    "slideshow": {
     "slide_type": "slide"
    },
    "tags": [
     "to_remove"
    ]
   },
   "outputs": [
    {
     "data": {
      "image/png": "[encoded data removed]",
      "text/plain": [
       "<Figure size 720x360 with 1 Axes>"
      ]
     },
     "metadata": {
      "needs_background": "light"
     },
     "output_type": "display_data"
    }
   ],
   "source": [
    "bins = np.arange(0, 24, 1)\n",
    "plt.figure(figsize=[10,5])\n",
    "plt.hist(data=df , x= 'hour' , bins=bins)\n",
    "plt.title(\"Ford GoBike System Trip Most Hours\")\n",
    "plt.xlabel('Hours')\n",
    "plt.ylabel('Number Of Trips');\n",
    "plt.show()\n"
   ]
  },
  {
   "cell_type": "markdown",
   "id": "a006d740",
   "metadata": {},
   "source": [
    "We Found The Most Hour is between 10:20"
   ]
  },
  {
   "cell_type": "markdown",
   "id": "acfb4d1a",
   "metadata": {
    "slideshow": {
     "slide_type": "skip"
    }
   },
   "source": [
    "Count The Trips By Duration For It By Seconds"
   ]
  },
  {
   "cell_type": "code",
   "execution_count": 25,
   "id": "c98f7fb4",
   "metadata": {
    "slideshow": {
     "slide_type": "skip"
    },
    "tags": [
     "to_remove"
    ]
   },
   "outputs": [
    {
     "data": {
      "image/png": "[encoded data removed]",
      "text/plain": [
       "<Figure size 432x288 with 1 Axes>"
      ]
     },
     "metadata": {
      "needs_background": "light"
     },
     "output_type": "display_data"
    }
   ],
   "source": [
    "bins = np.arange(0, 3600, 1)\n",
    "plt.hist(data = df, x = 'duration_sec', bins = bins)\n",
    "plt.xlabel('Duration (Sec)');\n",
    "plt.ylabel('Count Trips');\n",
    "plt.suptitle('Duration By Seconds');"
   ]
  },
  {
   "cell_type": "markdown",
   "id": "c17265b9",
   "metadata": {
    "slideshow": {
     "slide_type": "skip"
    }
   },
   "source": [
    "The distribution is right-skewed, with a really long tail"
   ]
  },
  {
   "cell_type": "code",
   "execution_count": 26,
   "id": "6fef43a9",
   "metadata": {
    "slideshow": {
     "slide_type": "skip"
    },
    "tags": [
     "to_remove"
    ]
   },
   "outputs": [
    {
     "data": {
      "image/png": "[encoded data removed]",
      "text/plain": [
       "<Figure size 360x360 with 1 Axes>"
      ]
     },
     "metadata": {
      "needs_background": "light"
     },
     "output_type": "display_data"
    }
   ],
   "source": [
    "\n",
    "default_color = sb.color_palette()[0]\n",
    "\n",
    "graph = sb.catplot(data=df, x='member_gender', kind='count', color=default_color)\n",
    "plt.suptitle('Count Of Every Gender  For Trips');"
   ]
  },
  {
   "cell_type": "markdown",
   "id": "7dbaf48a",
   "metadata": {
    "slideshow": {
     "slide_type": "skip"
    }
   },
   "source": [
    "# Bivariate Exploration"
   ]
  },
  {
   "cell_type": "markdown",
   "id": "05b8c7c5",
   "metadata": {
    "slideshow": {
     "slide_type": "skip"
    }
   },
   "source": [
    "Comaring User Type For All Trips"
   ]
  },
  {
   "cell_type": "code",
   "execution_count": 27,
   "id": "acb2fb70",
   "metadata": {
    "slideshow": {
     "slide_type": "skip"
    },
    "tags": [
     "to_remove"
    ]
   },
   "outputs": [
    {
     "data": {
      "image/png": "[encoded data removed]",
      "text/plain": [
       "<Figure size 720x360 with 1 Axes>"
      ]
     },
     "metadata": {
      "needs_background": "light"
     },
     "output_type": "display_data"
    }
   ],
   "source": [
    "\n",
    "default_color = sb.color_palette()[0]\n",
    "plt.figure(figsize = [10, 5])\n",
    "\n",
    "sb.countplot(data = df, x = \"user_type\", order = df.user_type.value_counts().index,color=default_color);\n",
    "plt.suptitle('Ford GoBike User Types');"
   ]
  },
  {
   "cell_type": "markdown",
   "id": "0143c352",
   "metadata": {
    "slideshow": {
     "slide_type": "skip"
    }
   },
   "source": [
    "Most of the users were Subscriber or Member, while the rest (10% to 15%) were Customer or just Casua\n",
    "\n"
   ]
  },
  {
   "cell_type": "markdown",
   "id": "c65b66cf",
   "metadata": {
    "slideshow": {
     "slide_type": "subslide"
    }
   },
   "source": [
    "Comparing With Gender For All Trips and discover the big difference  for Male especially thursday for (male & Female)"
   ]
  },
  {
   "cell_type": "code",
   "execution_count": 28,
   "id": "1232a650",
   "metadata": {
    "slideshow": {
     "slide_type": "slide"
    },
    "tags": [
     "to_remove"
    ]
   },
   "outputs": [
    {
     "data": {
      "image/png": "[encoded data removed]",
      "text/plain": [
       "<Figure size 1440x360 with 4 Axes>"
      ]
     },
     "metadata": {
      "needs_background": "light"
     },
     "output_type": "display_data"
    }
   ],
   "source": [
    "default_color = sb.color_palette()[0]\n",
    "\n",
    "gender_days = sb.catplot(data=df, x='weekday', col=\"member_gender\", kind='count', sharey = True, color=default_color);\n",
    "\n",
    "gender_days.set_axis_labels(\"Day\", \"Count of Bike Trips\");\n",
    "gender_days.set_titles(\"{col_name}\");\n",
    "\n",
    "gender_days.fig.suptitle('Ford GoBike Gender vs. Weekday',y=1.1);\n",
    "gender_days.set_xticklabels(rotation=15);"
   ]
  },
  {
   "cell_type": "markdown",
   "id": "0e9b10aa",
   "metadata": {
    "slideshow": {
     "slide_type": "-"
    }
   },
   "source": [
    "Most Of Users are Male (70%) & Others (female and unknown are 30 %)."
   ]
  },
  {
   "cell_type": "code",
   "execution_count": 29,
   "id": "390ec134",
   "metadata": {
    "slideshow": {
     "slide_type": "skip"
    }
   },
   "outputs": [
    {
     "data": {
      "text/plain": [
       "count    183412.000000\n",
       "mean        125.633868\n",
       "std         411.850439\n",
       "min          20.000000\n",
       "25%          29.000000\n",
       "50%          34.000000\n",
       "75%          42.000000\n",
       "max        2021.000000\n",
       "Name: age, dtype: float64"
      ]
     },
     "execution_count": 29,
     "metadata": {},
     "output_type": "execute_result"
    }
   ],
   "source": [
    "df['age'].describe()"
   ]
  },
  {
   "cell_type": "markdown",
   "id": "3f28caa3",
   "metadata": {
    "slideshow": {
     "slide_type": "subslide"
    }
   },
   "source": [
    "Comparing Ages For Riders To (Customers & Subscriber) ."
   ]
  },
  {
   "cell_type": "code",
   "execution_count": 30,
   "id": "b42fb353",
   "metadata": {
    "slideshow": {
     "slide_type": "slide"
    },
    "tags": [
     "to_remove"
    ]
   },
   "outputs": [
    {
     "data": {
      "image/png": "[encoded data removed]",
      "text/plain": [
       "<Figure size 1440x360 with 2 Axes>"
      ]
     },
     "metadata": {
      "needs_background": "light"
     },
     "output_type": "display_data"
    }
   ],
   "source": [
    "default_color = sb.color_palette()[0]\n",
    "\n",
    "#age = df.query('age > 35')\n",
    "\n",
    "user_age= sb.catplot(data=df, x = 'age_category', col='user_type', kind='count', sharey = False, color = default_color,aspect=2);\n",
    "\n",
    "# fig, ax = plt.subplots(nrows=2, figsize = [20,8])\n",
    "\n",
    "# sb.countplot(data = df, x = 'age', color = default_color, ax = ax[0])\n",
    "# sb.countplot(data = df, x = 'user_type', color = default_color, ax = ax[1])\n",
    "\n",
    "#sb.set(rc={'figure.figsize':(40,20)})\n",
    "\n",
    "user_age.set_axis_labels('Age Of Riders', 'Number of Trips')\n",
    "user_age.set_titles('{col_name}')\n",
    "\n",
    "user_age.fig.suptitle('Ford GoBike  User Type by Age ', y=1.1);\n",
    "user_age.set_xticklabels(rotation=90);"
   ]
  },
  {
   "cell_type": "markdown",
   "id": "fbed6623",
   "metadata": {
    "slideshow": {
     "slide_type": "-"
    }
   },
   "source": [
    "Age Riders Between Customer and Subscriber .. whatever the A big difference Subscriber But The Age is Most for twice is 29:39 and the Least age is 39:49 For Twice"
   ]
  },
  {
   "cell_type": "markdown",
   "id": "c0c0380d",
   "metadata": {
    "slideshow": {
     "slide_type": "subslide"
    }
   },
   "source": [
    "We Here Compare Between Customers With Subscriber and found  big different ."
   ]
  },
  {
   "cell_type": "code",
   "execution_count": 31,
   "id": "9d3aa7da",
   "metadata": {
    "slideshow": {
     "slide_type": "skip"
    },
    "tags": [
     "to_remove"
    ]
   },
   "outputs": [
    {
     "data": {
      "image/png": "[encoded data removed]",
      "text/plain": [
       "<Figure size 864x360 with 1 Axes>"
      ]
     },
     "metadata": {
      "needs_background": "light"
     },
     "output_type": "display_data"
    }
   ],
   "source": [
    "default_color = sb.color_palette()[0]\n",
    "\n",
    "user_week = df.groupby(['weekday', 'user_type']).size().reset_index()\n",
    "plt.figure(figsize=(12, 5))\n",
    "\n",
    "ax = sb.pointplot(data=user_week, x='weekday', y=0, hue = 'user_type', scale=1,color=default_color);\n",
    "\n",
    "plt.title('Ford GoBike User Type', y=1.15, fontsize=20)\n",
    "plt.xlabel('Weekdays',fontsize=20)\n",
    "plt.ylabel('Number of Trips', fontsize=20);\n",
    "plt.grid()"
   ]
  },
  {
   "cell_type": "markdown",
   "id": "35ff3bdd",
   "metadata": {
    "slideshow": {
     "slide_type": "skip"
    }
   },
   "source": [
    "We Found Subscriber is Most Users & The Most Day For ( Customers & Subscribers ) is Thursday ."
   ]
  },
  {
   "cell_type": "markdown",
   "id": "ebef9964",
   "metadata": {
    "slideshow": {
     "slide_type": "skip"
    },
    "tags": []
   },
   "source": [
    "# Bivariate Exploration"
   ]
  },
  {
   "cell_type": "markdown",
   "id": "aab2579b",
   "metadata": {
    "slideshow": {
     "slide_type": "slide"
    }
   },
   "source": [
    "Next heatmap explain that the Subscriber Who in 29 to 39 is most use bike system in Friday \n",
    "and the less days that use customers in it and point plot confirm the result For Age."
   ]
  },
  {
   "cell_type": "code",
   "execution_count": 32,
   "id": "299f41df",
   "metadata": {
    "slideshow": {
     "slide_type": "skip"
    },
    "tags": [
     "to_remove"
    ]
   },
   "outputs": [
    {
     "data": {
      "image/png": "[encoded data removed]",
      "text/plain": [
       "<Figure size 432x288 with 2 Axes>"
      ]
     },
     "metadata": {
      "needs_background": "light"
     },
     "output_type": "display_data"
    }
   ],
   "source": [
    "# Heatmap - Customers\n",
    "Customer = df.query('user_type == \"Subscriber\"').groupby(['age_category', 'weekday'])['bike_id'].size().reset_index();\n",
    "Customer = Customer.pivot('age_category', 'weekday', 'bike_id')\n",
    "sb.heatmap(Customer, cmap = 'twilight')\n",
    "\n",
    "# plt.figure(figsize=(12, 5))\n",
    "plt.title(\"Comparing Subscriber With Age everyday\", y=1.05)\n",
    "plt.xlabel('Weekday', fontsize=20)\n",
    "plt.ylabel('age', fontsize=20);\n",
    "\n",
    "# plt.show()"
   ]
  },
  {
   "cell_type": "markdown",
   "id": "9a4134ed",
   "metadata": {
    "slideshow": {
     "slide_type": "skip"
    }
   },
   "source": [
    "Comparing Age Category everyday With Duration of the trip"
   ]
  },
  {
   "cell_type": "code",
   "execution_count": 33,
   "id": "e266db7b",
   "metadata": {
    "slideshow": {
     "slide_type": "skip"
    },
    "tags": [
     "to_remove"
    ]
   },
   "outputs": [
    {
     "data": {
      "image/png": "[encoded data removed]",
      "text/plain": [
       "<Figure size 1440x576 with 1 Axes>"
      ]
     },
     "metadata": {
      "needs_background": "light"
     },
     "output_type": "display_data"
    }
   ],
   "source": [
    "fig = plt.figure(figsize = [20,8])\n",
    "ax = sb.pointplot(data = df, x = 'age_category', y = 'duration_by_min', hue = 'weekday',\n",
    "           palette = 'Blues')\n",
    "plt.title('Comparing Age categore in everyday with Duration')\n",
    "plt.ylabel('duration ')\n",
    "#plt.yscale('log')\n",
    "\n",
    "#plt.set_xticklabels(rotation=90);\n",
    "plt.show();"
   ]
  },
  {
   "cell_type": "markdown",
   "id": "3b2ca6a4",
   "metadata": {
    "slideshow": {
     "slide_type": "slide"
    }
   },
   "source": [
    "Comparing Here With User Type ( Customers & Subscribers ) Of Gender By Duration (by Min)."
   ]
  },
  {
   "cell_type": "code",
   "execution_count": 34,
   "id": "60db0692",
   "metadata": {
    "slideshow": {
     "slide_type": "slide"
    },
    "tags": [
     "to_remove"
    ]
   },
   "outputs": [
    {
     "data": {
      "image/png": "[encoded data removed]",
      "text/plain": [
       "<Figure size 810.375x360 with 1 Axes>"
      ]
     },
     "metadata": {
      "needs_background": "light"
     },
     "output_type": "display_data"
    }
   ],
   "source": [
    "Duration_userType = sb.catplot(data=df, x='user_type', y=\"duration_by_min\", hue=\"member_gender\", kind=\"violin\", height=5, aspect=2);\n",
    "\n",
    "Duration_userType.set_axis_labels(\"User Type\", \"Trip Duration (Min)\")\n",
    "Duration_userType._legend.set_title('Gender')\n",
    "Duration_userType.fig.suptitle('Ford System  Duration By Min. Per User Type and Gender', y=1.1, fontsize=16);"
   ]
  },
  {
   "cell_type": "markdown",
   "id": "4b901492",
   "metadata": {},
   "source": [
    "We Found that the male female is colse to others in (duration) whatever customer or subscriber  but in subscriber is the higher with small percentage ."
   ]
  },
  {
   "cell_type": "markdown",
   "id": "53b358d5",
   "metadata": {
    "slideshow": {
     "slide_type": "slide"
    }
   },
   "source": [
    "# Talk about some of the relationships you observed in this part of the investigation. Were there features that strengthened each other in terms of looking at your feature(s) of interest?"
   ]
  },
  {
   "cell_type": "markdown",
   "id": "44cf28e9",
   "metadata": {
    "slideshow": {
     "slide_type": "slide"
    }
   },
   "source": [
    " the previous data of exploration made different visuals and adding in more variables  comparing with  other variable\n",
    "* The HeatMap explain the Most days With Most Age and this Confirmed  With The Next PointPlot \n",
    " Age Category With Duration By Minutes through weekdays ..we discover the friday in the most day in all ages and the age from 39 to 49 & 29 to 39  is most age .\n",
    "\n",
    "    \n"
   ]
  }
 ],
 "metadata": {
  "celltoolbar": "Slideshow",
  "kernelspec": {
   "display_name": "Python 3",
   "language": "python",
   "name": "python3"
  },
  "language_info": {
   "codemirror_mode": {
    "name": "ipython",
    "version": 3
   },
   "file_extension": ".py",
   "mimetype": "text/x-python",
   "name": "python",
   "nbconvert_exporter": "python",
   "pygments_lexer": "ipython3",
   "version": "3.8.8"
  },
  "toc-showmarkdowntxt": true,
  "toc-showtags": false
 },
 "nbformat": 4,
 "nbformat_minor": 5
}
